{
 "cells": [
  {
   "cell_type": "markdown",
   "metadata": {},
   "source": [
    "<center>\n",
    "    <img src=\"https://cf-courses-data.s3.us.cloud-object-storage.appdomain.cloud/IBMDeveloperSkillsNetwork-DS0105EN-SkillsNetwork/labs/Module2/images/SN_web_lightmode.png\" width=\"300\" alt=\"cognitiveclass.ai logo\"  />\n",
    "</center>\n"
   ]
  },
  {
   "cell_type": "markdown",
   "metadata": {},
   "source": [
    "#### Add your code below following the instructions given in the course\n"
   ]
  },
  {
   "cell_type": "markdown",
   "metadata": {},
   "source": [
    "# My Jupyter Notebook on IBM Watson Studio"
   ]
  },
  {
   "cell_type": "markdown",
   "metadata": {},
   "source": [
    "**Felix Kuse** <br>\n",
    "Future Data Scientist at Philip Morris International"
   ]
  },
  {
   "cell_type": "markdown",
   "metadata": {},
   "source": [
    "*I'm interested in data science because i love to discover and quantify relationships from different datasources,<br>\n",
    "to improve products or to help with the developement od new algorithms/products.*"
   ]
  },
  {
   "cell_type": "markdown",
   "metadata": {
    "tags": []
   },
   "source": [
    "### The following code discribes the basic linear equation for the Finite-Element-Method for a static case.\n",
    "#### K * u =F   , where K represents the stiffness matrix  u is the displacement and F is the force vector."
   ]
  },
  {
   "cell_type": "code",
   "execution_count": 5,
   "metadata": {
    "jupyter": {
     "source_hidden": true
    },
    "tags": []
   },
   "outputs": [
    {
     "name": "stdout",
     "output_type": "stream",
     "text": [
      "the force is 160 Newton\n"
     ]
    }
   ],
   "source": [
    "# the Finite element is simplifyed as a sytem of springs\n",
    "\n",
    "K= 40 ; #N/mm\n",
    "u= 4 ;  #mm\n",
    "\n",
    "F=K*u;\n",
    "\n",
    "print('the force is', F, 'Newton')"
   ]
  },
  {
   "cell_type": "markdown",
   "metadata": {},
   "source": [
    "| Heading | Heading | Heading |\n",
    "| ----| ----| ----|\n",
    "|  text   |  text |  text|\n",
    "|  text |  text |  text|\n",
    "***\n",
    "1. first\n",
    "1. second\n",
    "1. third\n",
    "***\n",
    "- one\n",
    "- two\n",
    "- three\n",
    "***\n",
    "~there was a mistake~"
   ]
  }
 ],
 "metadata": {
  "kernelspec": {
   "display_name": "Python",
   "language": "python",
   "name": "conda-env-python-py"
  },
  "language_info": {
   "codemirror_mode": {
    "name": "ipython",
    "version": 3
   },
   "file_extension": ".py",
   "mimetype": "text/x-python",
   "name": "python",
   "nbconvert_exporter": "python",
   "pygments_lexer": "ipython3",
   "version": "3.7.12"
  }
 },
 "nbformat": 4,
 "nbformat_minor": 4
}
